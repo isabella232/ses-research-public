{
 "cells": [
  {
   "cell_type": "markdown",
   "metadata": {},
   "source": [
    "# Computing Experiment Datasets #1: Enriching Optimizely Decision data with experiment metadata\n",
    "\n",
    "This Lab is part of a multi-part series focused on computing useful experiment datasets. In this Lab, we'll use [PySpark](https://spark.apache.org/docs/latest/api/python/index.html), [Bravado](https://github.com/Yelp/bravado), and Optimizely's [Experiments API](https://library.optimizely.com/docs/api/app/v2/index.html#tag/Experiments) to enrich Optimizely [\"decision\"](https://docs.developers.optimizely.com/optimizely-data/docs/enriched-events-data-specification#decisions-2) data with human-readable experiment and variation names.\n",
    "\n",
    "Why is this useful?  Exported Optimizely [decision](https://docs.developers.optimizely.com/optimizely-data/docs/enriched-events-data-specification#decisions-2) data contains a record of every \"decision\" made by Optimizely clients during your experiment.  Each \"decision\" event records the moment that a visitor is added to a particular variation, and includes unique identifiers for the experiment and variation in question.  For example: \n",
    "\n",
    "| visitor_id | experiment_id | variation_id | timestamp                |\n",
    "|------------|---------------|--------------|--------------------------|\n",
    "| visitor_1  | 12345         | 678          | July 20th, 2020 14:25:00 |\n",
    "| visitor_2  | 12345         | 789          | July 20th, 2020 14:28:13 |\n",
    "| visitor_3  | 12345         | 678          | July 20th, 2020 14:31:01 |\n",
    "\n",
    "In order to work productively with this data in, it may be useful to enrich it with human-readable names for your experiments and variations, yielding e.g.:\n",
    "\n",
    "| visitor_id | experiment_id | variation_id | timestamp                | experiment_name          | variation_name |\n",
    "|------------|---------------|--------------|--------------------------|--------------------------|----------------|\n",
    "| visitor_1  | 12345         | 678          | July 20th, 2020 14:25:00 | free_shipping_experiment | control        |\n",
    "| visitor_2  | 12345         | 789          | July 20th, 2020 14:28:13 | free_shipping_experiment | treatment      |\n",
    "| visitor_3  | 12345         | 678          | July 20th, 2020 14:31:01 | free_shipping_experiment | control        |\n",
    "\n",
    "This Lab is generated from a Jupyter Notebook.  Scroll to the bottom of this page for instructions on how to run it on your own machine."
   ]
  },
  {
   "cell_type": "markdown",
   "metadata": {},
   "source": [
    "## Global parameters\n",
    "\n",
    "The following global parameters are used to control the execution in this notebook.  These parameters may be overridden by setting environment variables prior to launching the notebook, e.g.:\n",
    "\n",
    "```\n",
    "export OPTIMIZELY_DATA_DIR=~/my_analysis_dir\n",
    "```"
   ]
  },
  {
   "cell_type": "code",
   "execution_count": 1,
   "metadata": {},
   "outputs": [],
   "source": [
    "import os\n",
    "from getpass import getpass\n",
    "\n",
    "# Determines whether output data should be written back to disk\n",
    "# Defaults to False; setting this to True may be useful when running this notebook\n",
    "# as part of a larger workflow\n",
    "SKIP_WRITING_OUTPUT_DATA_TO_DISK = os.environ.get(\"SKIP_WRITING_OUTPUT_DATA_TO_DISK\", False)\n",
    "\n",
    "# This notebook requires an Optimizely API token.\n",
    "OPTIMIZELY_API_TOKEN = os.environ.get(\"OPTIMIZELY_API_TOKEN\", \"2:d6K8bPrDoTr_x4hiFCNVidcZk0YEPwcIHZk-IZb5sM3Q7RxRDafI\")\n",
    "\n",
    "# Default path for reading and writing analysis data\n",
    "OPTIMIZELY_DATA_DIR = os.environ.get(\"OPTIMIZELY_DATA_DIR\", \"./covid_test_data\")"
   ]
  },
  {
   "cell_type": "markdown",
   "metadata": {},
   "source": [
    "## Create an Optimizely REST API client\n",
    "\n",
    "First, we'll create an API client using the excellent [Bravado](https://github.com/Yelp/bravado) library.\n",
    "\n",
    "**Note:** In order to execute this step, you'll need an Optimizely [Personal Access Token](https://docs.developers.optimizely.com/web/docs/personal-token).  You can supply this token to the notebook via the `OPTIMIZELY_API_TOKEN` environment variable.  If `OPTIMIZELY_API_TOKEN` has not been set, you will be prompted to enter an access token manually."
   ]
  },
  {
   "cell_type": "code",
   "execution_count": 2,
   "metadata": {},
   "outputs": [],
   "source": [
    "import getpass\n",
    "from bravado.requests_client import RequestsClient\n",
    "from bravado.client import SwaggerClient\n",
    "\n",
    "# Create a custom requests client for authentication\n",
    "requests_client = RequestsClient()\n",
    "requests_client.set_api_key(\n",
    "    \"api.optimizely.com\",\n",
    "    f\"Bearer {OPTIMIZELY_API_TOKEN}\",\n",
    "    param_name=\"Authorization\",\n",
    "    param_in=\"header\",\n",
    ")\n",
    "\n",
    "# Create an API client using Optimizely's swagger/OpenAPI specification\n",
    "api_client = SwaggerClient.from_url(\n",
    "    \"https://api.optimizely.com/v2/swagger.json\",\n",
    "    http_client=requests_client,\n",
    "    config={\n",
    "        \n",
    "        \"validate_swagger_spec\": False,  # validation produces several warnings\n",
    "    }\n",
    ")"
   ]
  },
  {
   "cell_type": "markdown",
   "metadata": {},
   "source": [
    "Now we'll test that this client can successfully authenticate to Optimizely"
   ]
  },
  {
   "cell_type": "code",
   "execution_count": 3,
   "metadata": {},
   "outputs": [
    {
     "name": "stdout",
     "output_type": "stream",
     "text": [
      "Successfully authenticated to Optimizely.\n"
     ]
    }
   ],
   "source": [
    "import bravado.exception\n",
    "\n",
    "try:\n",
    "    api_client.Projects.list_projects().response().result\n",
    "    print(\"Successfully authenticated to Optimizely.\")\n",
    "except bravado.exception.HTTPUnauthorized as e:\n",
    "    print(f\"Failed to authenticate to Optimizely: {e}\")"
   ]
  },
  {
   "cell_type": "markdown",
   "metadata": {},
   "source": [
    "## Create a Spark Session"
   ]
  },
  {
   "cell_type": "code",
   "execution_count": 4,
   "metadata": {},
   "outputs": [],
   "source": [
    "from pyspark.sql import SparkSession\n",
    "\n",
    "num_cores = 1\n",
    "driver_ip = \"127.0.0.1\"\n",
    "driver_memory_gb = 1\n",
    "executor_memory_gb = 2\n",
    "\n",
    "# Create a local Spark session\n",
    "spark = SparkSession \\\n",
    "    .builder \\\n",
    "    .appName(\"Python Spark SQL\") \\\n",
    "    .config(f\"local[{num_cores}]\") \\\n",
    "    .config(\"spark.sql.repl.eagerEval.enabled\", True) \\\n",
    "    .config(\"spark.sql.repl.eagerEval.truncate\", 120) \\\n",
    "    .config(\"spark.driver.bindAddress\", driver_ip) \\\n",
    "    .config(\"spark.driver.host\", driver_ip) \\\n",
    "    .config(\"spark.driver.memory\", f\"{driver_memory_gb}g\") \\\n",
    "    .config(\"spark.executor.memory\", f\"{executor_memory_gb}g\") \\\n",
    "    .getOrCreate()"
   ]
  },
  {
   "cell_type": "markdown",
   "metadata": {},
   "source": [
    "## Load decision data\n",
    "\n",
    "We'll start by loading decision data and isolating the decisions for the experiment specified by `experiment_id` and the time window specfied by `decisions_start` and `decisions_end`."
   ]
  },
  {
   "cell_type": "markdown",
   "metadata": {},
   "source": [
    "### Local Data Storage\n",
    "\n",
    "These parameters specify where this notebook should read and write data. The default location is ./example_data in this notebook's directory. You can point the notebook to another data directory by setting the OPTIMIZELY_DATA_DIR environment variable prior to starting Jupyter Lab, e.g.\n",
    "\n",
    "```sh\n",
    "export OPTIMIZELY_DATA_DIR=~/optimizely_data\n",
    "```"
   ]
  },
  {
   "cell_type": "code",
   "execution_count": 5,
   "metadata": {},
   "outputs": [],
   "source": [
    "# Local data storage locationsZ\n",
    "decisions_data_dir = os.path.join(OPTIMIZELY_DATA_DIR, \"type=decisions\")\n",
    "enriched_decisions_output_dir = os.path.join(OPTIMIZELY_DATA_DIR, \"type=enriched_decisions\")"
   ]
  },
  {
   "cell_type": "markdown",
   "metadata": {},
   "source": [
    "### Read decision data from disk\n",
    "\n",
    "We'll create a `decisions` view with the loaded data"
   ]
  },
  {
   "cell_type": "code",
   "execution_count": 6,
   "metadata": {},
   "outputs": [
    {
     "data": {
      "text/html": [
       "<table border='1'>\n",
       "<tr><th>uuid</th><th>timestamp</th><th>process_timestamp</th><th>visitor_id</th><th>session_id</th><th>account_id</th><th>campaign_id</th><th>experiment_id</th><th>variation_id</th><th>attributes</th><th>user_ip</th><th>user_agent</th><th>referer</th><th>is_holdback</th><th>revision</th><th>client_engine</th><th>client_version</th><th>date</th><th>experiment</th></tr>\n",
       "<tr><td>0244b48f-cd2c-45fe-86b5-accb0864aa9f</td><td>2020-09-14 11:38:10.022</td><td>2020-09-14 11:39:09.401</td><td>user_9763</td><td>-1361007105</td><td>596780373</td><td>18811053836</td><td>18786493712</td><td>18802093142</td><td>[[$opt_bot_filtering, $opt_bot_filtering, custom, false], [$opt_enrich_decisions, $opt_enrich_decisions, custom, true...</td><td>162.227.140.251</td><td>python-requests/2.24.0</td><td>null</td><td>false</td><td>99</td><td>python-sdk</td><td>3.5.2</td><td>2020-09-14</td><td>18786493712</td></tr>\n",
       "</table>\n"
      ],
      "text/plain": [
       "+------------------------------------+-----------------------+-----------------------+----------+-----------+----------+-----------+-------------+------------+------------------------------------------------------------------------------------------------------------------------+---------------+----------------------+-------+-----------+--------+-------------+--------------+----------+-----------+\n",
       "|                                uuid|              timestamp|      process_timestamp|visitor_id| session_id|account_id|campaign_id|experiment_id|variation_id|                                                                                                              attributes|        user_ip|            user_agent|referer|is_holdback|revision|client_engine|client_version|      date| experiment|\n",
       "+------------------------------------+-----------------------+-----------------------+----------+-----------+----------+-----------+-------------+------------+------------------------------------------------------------------------------------------------------------------------+---------------+----------------------+-------+-----------+--------+-------------+--------------+----------+-----------+\n",
       "|0244b48f-cd2c-45fe-86b5-accb0864aa9f|2020-09-14 11:38:10.022|2020-09-14 11:39:09.401| user_9763|-1361007105| 596780373|18811053836|  18786493712| 18802093142|[[$opt_bot_filtering, $opt_bot_filtering, custom, false], [$opt_enrich_decisions, $opt_enrich_decisions, custom, true...|162.227.140.251|python-requests/2.24.0|   null|      false|      99|   python-sdk|         3.5.2|2020-09-14|18786493712|\n",
       "+------------------------------------+-----------------------+-----------------------+----------+-----------+----------+-----------+-------------+------------+------------------------------------------------------------------------------------------------------------------------+---------------+----------------------+-------+-----------+--------+-------------+--------------+----------+-----------+"
      ]
     },
     "execution_count": 6,
     "metadata": {},
     "output_type": "execute_result"
    }
   ],
   "source": [
    "from lib import util\n",
    "\n",
    "util.read_parquet_data_from_disk(\n",
    "    spark_session=spark,\n",
    "    data_path=decisions_data_dir,\n",
    "    view_name=\"decisions\"\n",
    ")\n",
    "\n",
    "spark.sql(\"SELECT * FROM decisions LIMIT 1\")"
   ]
  },
  {
   "cell_type": "markdown",
   "metadata": {},
   "source": [
    "## Enrich decision data\n",
    "\n",
    "Next we'll query our decision data to list the distinct `experiment_id` values found in our dataset.  "
   ]
  },
  {
   "cell_type": "code",
   "execution_count": 7,
   "metadata": {},
   "outputs": [
    {
     "name": "stdout",
     "output_type": "stream",
     "text": [
      "Found these experiment IDs in the loaded decision data:\n",
      "    18786493712\n"
     ]
    }
   ],
   "source": [
    "from IPython.display import display, Markdown\n",
    "\n",
    "experiment_ids = spark.sql(\"SELECT DISTINCT experiment_id FROM decisions\").toPandas().experiment_id\n",
    "\n",
    "print(\"Found these experiment IDs in the loaded decision data:\")\n",
    "for exp_id in experiment_ids:\n",
    "    print(f\"    {exp_id}\")"
   ]
  },
  {
   "cell_type": "code",
   "execution_count": 8,
   "metadata": {},
   "outputs": [
    {
     "data": {
      "text/html": [
       "<table border='1'>\n",
       "<tr><th>experiment_id</th><th>variation_id</th><th>experiment_name</th><th>variation_name</th><th>reference_variation_id</th></tr>\n",
       "<tr><td>18786493712</td><td>18802093142</td><td>covid_messaging_experiment</td><td>control</td><td>18802093142</td></tr>\n",
       "<tr><td>18786493712</td><td>18818611832</td><td>covid_messaging_experiment</td><td>message_1</td><td>18802093142</td></tr>\n",
       "<tr><td>18786493712</td><td>18817551468</td><td>covid_messaging_experiment</td><td>message_2</td><td>18802093142</td></tr>\n",
       "</table>\n"
      ],
      "text/plain": [
       "+-------------+------------+--------------------------+--------------+----------------------+\n",
       "|experiment_id|variation_id|           experiment_name|variation_name|reference_variation_id|\n",
       "+-------------+------------+--------------------------+--------------+----------------------+\n",
       "|  18786493712| 18802093142|covid_messaging_experiment|       control|           18802093142|\n",
       "|  18786493712| 18818611832|covid_messaging_experiment|     message_1|           18802093142|\n",
       "|  18786493712| 18817551468|covid_messaging_experiment|     message_2|           18802093142|\n",
       "+-------------+------------+--------------------------+--------------+----------------------+"
      ]
     },
     "execution_count": 8,
     "metadata": {},
     "output_type": "execute_result"
    }
   ],
   "source": [
    "import pandas as pd\n",
    "import warnings\n",
    "\n",
    "# The Optimizely REST API spec causes Bravado to throw several warnings\n",
    "warnings.filterwarnings(\"ignore\")\n",
    "\n",
    "def get_human_readable_name(obj):\n",
    "    \"\"\"Return a human-readable name from an Optimizely Experiment or Variation object.\n",
    "    \n",
    "    This function is handy because Optimizely Web and Full Stack experiments use different \n",
    "    attribute names to store human-readable names.\"\"\"\n",
    "    if hasattr(obj, \"key\") and obj.key is not None: # Optimizely Full Stack experiments\n",
    "        return obj.key\n",
    "    elif hasattr(obj, \"name\") and obj.name is not None: # Optimizely Web experiments\n",
    "        return obj.name\n",
    "    return None\n",
    "\n",
    "def get_experiment_names(api_client, exp_id):\n",
    "    \"Retrieve human-readable names for the experiment and associated variations from Optimizely's experiment API \"\n",
    "    experiment = api_client.Experiments.get_experiment(experiment_id=exp_id).response().result\n",
    "    return pd.DataFrame([\n",
    "        {\n",
    "            'experiment_id' : str(experiment.id),\n",
    "            'variation_id' : str(variation.variation_id),\n",
    "            'experiment_name' : get_human_readable_name(experiment),\n",
    "            'variation_name' : get_human_readable_name(variation),\n",
    "            'reference_variation_id' : str(experiment.variations[0].variation_id)\n",
    "        }\n",
    "        for variation in experiment.variations\n",
    "    ])\n",
    "\n",
    "names = pd.concat([get_experiment_names(api_client, exp_id) for exp_id in experiment_ids])\n",
    "\n",
    "spark.createDataFrame(names).createOrReplaceTempView(\"names\")\n",
    "\n",
    "spark.sql(\"SELECT * FROM names LIMIT 10\")"
   ]
  },
  {
   "cell_type": "markdown",
   "metadata": {},
   "source": [
    "Finally, we'll join our decision data with this mapping in order to enrich it with human-readable names."
   ]
  },
  {
   "cell_type": "code",
   "execution_count": 9,
   "metadata": {},
   "outputs": [
    {
     "data": {
      "text/html": [
       "<table border='1'>\n",
       "<tr><th>experiment_name</th><th>variation_name</th><th>reference_variation_id</th><th>uuid</th><th>timestamp</th><th>process_timestamp</th><th>visitor_id</th><th>session_id</th><th>account_id</th><th>campaign_id</th><th>experiment_id</th><th>variation_id</th><th>attributes</th><th>user_ip</th><th>user_agent</th><th>referer</th><th>is_holdback</th><th>revision</th><th>client_engine</th><th>client_version</th><th>date</th><th>experiment</th></tr>\n",
       "<tr><td>covid_messaging_experiment</td><td>control</td><td>18802093142</td><td>0244b48f-cd2c-45fe-86b5-accb0864aa9f</td><td>2020-09-14 11:38:10.022</td><td>2020-09-14 11:39:09.401</td><td>user_9763</td><td>-1361007105</td><td>596780373</td><td>18811053836</td><td>18786493712</td><td>18802093142</td><td>[[$opt_bot_filtering, $opt_bot_filtering, custom, false], [$opt_enrich_decisions, $opt_enrich_decisions, custom, true...</td><td>162.227.140.251</td><td>python-requests/2.24.0</td><td>null</td><td>false</td><td>99</td><td>python-sdk</td><td>3.5.2</td><td>2020-09-14</td><td>18786493712</td></tr>\n",
       "</table>\n"
      ],
      "text/plain": [
       "+--------------------------+--------------+----------------------+------------------------------------+-----------------------+-----------------------+----------+-----------+----------+-----------+-------------+------------+------------------------------------------------------------------------------------------------------------------------+---------------+----------------------+-------+-----------+--------+-------------+--------------+----------+-----------+\n",
       "|           experiment_name|variation_name|reference_variation_id|                                uuid|              timestamp|      process_timestamp|visitor_id| session_id|account_id|campaign_id|experiment_id|variation_id|                                                                                                              attributes|        user_ip|            user_agent|referer|is_holdback|revision|client_engine|client_version|      date| experiment|\n",
       "+--------------------------+--------------+----------------------+------------------------------------+-----------------------+-----------------------+----------+-----------+----------+-----------+-------------+------------+------------------------------------------------------------------------------------------------------------------------+---------------+----------------------+-------+-----------+--------+-------------+--------------+----------+-----------+\n",
       "|covid_messaging_experiment|       control|           18802093142|0244b48f-cd2c-45fe-86b5-accb0864aa9f|2020-09-14 11:38:10.022|2020-09-14 11:39:09.401| user_9763|-1361007105| 596780373|18811053836|  18786493712| 18802093142|[[$opt_bot_filtering, $opt_bot_filtering, custom, false], [$opt_enrich_decisions, $opt_enrich_decisions, custom, true...|162.227.140.251|python-requests/2.24.0|   null|      false|      99|   python-sdk|         3.5.2|2020-09-14|18786493712|\n",
       "+--------------------------+--------------+----------------------+------------------------------------+-----------------------+-----------------------+----------+-----------+----------+-----------+-------------+------------+------------------------------------------------------------------------------------------------------------------------+---------------+----------------------+-------+-----------+--------+-------------+--------------+----------+-----------+"
      ]
     },
     "execution_count": 9,
     "metadata": {},
     "output_type": "execute_result"
    }
   ],
   "source": [
    "spark.sql(f\"\"\"\n",
    "    CREATE OR REPLACE TEMPORARY VIEW enriched_decisions AS\n",
    "        SELECT\n",
    "            names.experiment_name,\n",
    "            names.variation_name,\n",
    "            names.reference_variation_id,\n",
    "            decisions.*\n",
    "        FROM\n",
    "            decisions LEFT JOIN names on decisions.variation_id = names.variation_id\n",
    "\"\"\")\n",
    "\n",
    "spark.sql(\"SELECT * FROM enriched_decisions LIMIT 1\")"
   ]
  },
  {
   "cell_type": "markdown",
   "metadata": {},
   "source": [
    "## Writing our enriched decisions dataset to disk\n",
    "\n",
    "We'll store our enriched decision data in the directory specified by `enriched_decision_output_dir`.  Enriched decision data is partitioned into directories for each experiment included in the input decision data."
   ]
  },
  {
   "cell_type": "code",
   "execution_count": 10,
   "metadata": {},
   "outputs": [],
   "source": [
    "if not SKIP_WRITING_OUTPUT_DATA_TO_DISK: \n",
    "    spark.sql(\"\"\"SELECT * FROM enriched_decisions\"\"\") \\\n",
    "        .coalesce(1) \\\n",
    "        .write.mode('overwrite') \\\n",
    "        .partitionBy(\"experiment_id\") \\\n",
    "        .parquet(enriched_decisions_output_dir)"
   ]
  },
  {
   "cell_type": "markdown",
   "metadata": {},
   "source": [
    "## Conclusion\n",
    "\n",
    "In this Lab we used [PySpark](https://spark.apache.org/docs/latest/api/python/index.html), [Bravado](https://github.com/Yelp/bravado), and Optimizely's [Experiments API](https://library.optimizely.com/docs/api/app/v2/index.html#tag/Experiments) to enrich Optimizely [\"decision\"](https://docs.developers.optimizely.com/optimizely-data/docs/enriched-events-data-specification#decisions-2) data with human-readable experiment and variation names. \n",
    "\n",
    "We've written our output dataset to disk so that it can be used in other analyses (and future installments in the Experiment Datasets Lab series.)"
   ]
  },
  {
   "cell_type": "markdown",
   "metadata": {},
   "source": [
    "## How to run this notebook\n",
    "\n",
    "This notebook lives in the [Optimizely Labs](http://github.com/optimizely/labs) repository.  You can download it and everything you need to run it by doing one of the following\n",
    "- Downloading a zipped copy of this Lab directory on the [Optimizely Labs page](https://www.optimizely.com/labs/computing-experiment-subjects/)\n",
    "- Downloading a [zipped copy of the Optimizely Labs repository](https://github.com/optimizely/labs/archive/master.zip) from Github\n",
    "- Cloning the [Github respository](http://github.com/optimizely/labs)\n",
    "\n",
    "Once you've downloaded this Lab directory (on its own, or as part of the [Optimizely Labs](http://github.com/optimizely/labs) repository), follow the instructions in the `README.md` file for this Lab."
   ]
  },
  {
   "cell_type": "code",
   "execution_count": null,
   "metadata": {},
   "outputs": [],
   "source": []
  }
 ],
 "metadata": {
  "kernelspec": {
   "display_name": "Python 3 (Optimizely Labs Environment)",
   "language": "python",
   "name": "optimizelylabs"
  },
  "language_info": {
   "codemirror_mode": {
    "name": "ipython",
    "version": 3
   },
   "file_extension": ".py",
   "mimetype": "text/x-python",
   "name": "python",
   "nbconvert_exporter": "python",
   "pygments_lexer": "ipython3",
   "version": "3.7.6"
  }
 },
 "nbformat": 4,
 "nbformat_minor": 4
}
