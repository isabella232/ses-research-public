{
 "cells": [
  {
   "cell_type": "markdown",
   "metadata": {
    "colab_type": "text",
    "id": "wj5xMSBHsVIO"
   },
   "source": [
    "# Custom Experiment Analysis with Optimizely Stats Engine Service (Abbreviated)"
   ]
  },
  {
   "cell_type": "markdown",
   "metadata": {
    "colab_type": "text",
    "id": "bEiFP2sGsVIP"
   },
   "source": [
    "## The experiment\n",
    "\n",
    "We'll use simulated data from the following Optimizely Full Stack \"experiment\" in this notebook:\n",
    "\n",
    "<table>\n",
    "    <tr>\n",
    "        <td>\n",
    "            <img src=\"https://raw.githubusercontent.com/optimizely/ses-research-public/master/img/control.png\" alt=\"Control\" style=\"width:100%; padding-left:0px\">\n",
    "        </td>\n",
    "        <td>\n",
    "            <img src=\"https://raw.githubusercontent.com/optimizely/ses-research-public/master/img/message_1.png\" alt=\"Message #1\" style=\"width:100%; padding-right:0px\">\n",
    "        </td>\n",
    "        <td>\n",
    "            <img src=\"https://raw.githubusercontent.com/optimizely/ses-research-public/master/img/message_2.png\" alt=\"Message #2\" style=\"width:100%; padding-right:0px\">\n",
    "        </td>\n",
    "    </tr>\n",
    "    <tr>\n",
    "        <td style=\"background-color:white; text-align:center\">\n",
    "            \"control\"\n",
    "        </td>\n",
    "        <td style=\"background-color:white; text-align:center\">\n",
    "            \"message_1\"\n",
    "        </td>\n",
    "        <td style=\"background-color:white; text-align:center\">\n",
    "            \"message_2\"\n",
    "        </td>\n",
    "    </tr>\n",
    "</table>"
   ]
  },
  {
   "cell_type": "markdown",
   "metadata": {
    "colab_type": "text",
    "id": "YK4diIv4sVIQ"
   },
   "source": [
    "## The challenge\n",
    "\n",
    "What impact did this experiment have on Customer support call center volumes?  \n",
    "\n",
    "Customer support calls are managed and tracked by a third party and do not appear on Optimizely's results page.  We're going to load metric \"observation\" data computed from a variety of sources and use Optimizely's Stats Engine Service to compute sequential p-values and confidence intervals for these metrics."
   ]
  },
  {
   "cell_type": "markdown",
   "metadata": {
    "colab_type": "text",
    "id": "1lAChWCNsVIR"
   },
   "source": [
    "## Initialize global variables\n",
    "\n",
    "You'll need to enter a valid Optimizely Personal Access token to use Stats Engine Service.  "
   ]
  },
  {
   "cell_type": "code",
   "execution_count": null,
   "metadata": {
    "colab": {
     "base_uri": "https://localhost:8080/",
     "height": 51
    },
    "colab_type": "code",
    "id": "jiXrsJBosVIS",
    "outputId": "bb699d1c-b3c2-40db-bc97-1b8b6058d3e3"
   },
   "outputs": [],
   "source": [
    "from getpass import getpass\n",
    "\n",
    "# When this cell is run, you will be prompted to enter an Optimizely account ID and API token\n",
    "OPTIMIZELY_ACCOUNT_ID = input(\"Enter your Optimizely account ID\")\n",
    "OPTIMIZELY_API_TOKEN = getpass(\"Enter your Optimizely session token\")\n",
    "\n",
    "print(f\"Done.\")"
   ]
  },
  {
   "cell_type": "markdown",
   "metadata": {
    "colab_type": "text",
    "id": "fztkIiXzsVIW"
   },
   "source": [
    "## Load time-aggregated metric data from our experiment"
   ]
  },
  {
   "cell_type": "markdown",
   "metadata": {
    "colab_type": "text",
    "id": "IpKo2OR2sVIW"
   },
   "source": [
    "We'll use [Pandas](https://pandas.pydata.org/) to load and manipulate data."
   ]
  },
  {
   "cell_type": "code",
   "execution_count": null,
   "metadata": {
    "colab": {},
    "colab_type": "code",
    "id": "vqw8d-GxsVIX"
   },
   "outputs": [],
   "source": [
    "import pandas as pd\n",
    "\n",
    "# Load time-aggregated metric data\n",
    "metric_data = pd.read_csv(\n",
    "  \"https://raw.githubusercontent.com/optimizely/ses-research-public/master/time_aggregated_metric_data.csv\", \n",
    "  dtype={\"variation_id\" : str, \"experiment_id\" : str, \"reference_variation_id\" : str},\n",
    "  parse_dates=[\"interval_timestamp\"]\n",
    ")"
   ]
  },
  {
   "cell_type": "markdown",
   "metadata": {
    "colab_type": "text",
    "id": "XkzaIowZsVIa"
   },
   "source": [
    "We can use the Pandas `head` function to examine our data:"
   ]
  },
  {
   "cell_type": "code",
   "execution_count": null,
   "metadata": {
    "colab": {
     "base_uri": "https://localhost:8080/",
     "height": 479
    },
    "colab_type": "code",
    "id": "P0jSUnP5sVIa",
    "outputId": "b4f6b59a-24d6-4b3c-c591-d880f40b1449"
   },
   "outputs": [],
   "source": [
    "metric_data.head()"
   ]
  },
  {
   "cell_type": "markdown",
   "metadata": {
    "colab_type": "text",
    "id": "aV5y_RyKsVId"
   },
   "source": [
    "Pandas also supports SQL-style queries using the `pandasql` module.  We'll start by install and importing `pandasql`"
   ]
  },
  {
   "cell_type": "markdown",
   "metadata": {
    "colab_type": "text",
    "id": "ut9xXF9YsVIg"
   },
   "source": [
    "## Computing sequential statistics with Stats Engine Service\n",
    "\n",
    "We'll start by transforming our metric data into the request format expected by Stats Engine Service."
   ]
  },
  {
   "cell_type": "code",
   "execution_count": null,
   "metadata": {
    "colab": {},
    "colab_type": "code",
    "id": "wwiKxvRVxvba"
   },
   "outputs": [],
   "source": [
    "# The CSV file we loaded contains timeseries data associated with several \n",
    "# different business metrics.  We're going to send data for two of these\n",
    "# metrics to Stats Engine Service:\n",
    "ses_metric_names = [\n",
    "    \"Customer support calls per visitor\",\n",
    "    \"Total customer support minutes per visitor\"\n",
    "]\n",
    "\n",
    "# Stats Engine Service expects a specific set of columns with each datapoint.\n",
    "ses_metric_input_columns = [\n",
    "  \"interval_timestamp\",\n",
    "  \"variation_id\",\n",
    "  \"unit_count\",\n",
    "  \"unit_observation_sum\",\n",
    "  \"unit_observation_sum_of_squares\"\n",
    "]\n",
    "\n",
    "# metric_data is a single dataframe containing time-aggregated data for several\n",
    "# different business metrics.  Stats Engine Service expects input data to be \n",
    "# split out by metric, so we start by splitting metric_data into a list of \n",
    "# separate dataframes, one for each metric in our ses_metric_names list.\n",
    "metric_dfs = [\n",
    "    metric_data \\\n",
    "      .assign(interval_timestamp=metric_data.interval_timestamp.astype(int) / 10**9)\n",
    "      [metric_data.metric_name == metric_name] \\\n",
    "      [ses_metric_input_columns] \\\n",
    "      .sort_values(\"interval_timestamp\")\n",
    "    for metric_name in ses_metric_names\n",
    "]\n",
    "\n",
    "# Construct the request headers expected by Stats Engine Service\n",
    "ses_request_headers = {\n",
    "  \"Content-Type\": \"application/json\",\n",
    "  \"account\": f\"{OPTIMIZELY_ACCOUNT_ID}\",\n",
    "  \"Authorization\": f\"Bearer {OPTIMIZELY_API_TOKEN}\"\n",
    "}\n",
    "\n",
    "# Construct the request data expected by Stats Engine Service\n",
    "ses_request_data = {\n",
    "  \"config\": {\n",
    "    \"reference_variation_id\": \"control\",\n",
    "    \"use_stats_resets\": True,\n",
    "  },\n",
    "  \"metrics\": [\n",
    "    {\n",
    "      \"config\": {\n",
    "        \"is_binary\": False,\n",
    "      },\n",
    "      \"data\": obs_df.to_dict(\"records\") # Convert dataframes to JSON\n",
    "    }\n",
    "    for obs_df in metric_dfs\n",
    "  ]\n",
    "}"
   ]
  },
  {
   "cell_type": "markdown",
   "metadata": {},
   "source": [
    "Let's take a look at the input data we'll send to Stats Engine Service:"
   ]
  },
  {
   "cell_type": "code",
   "execution_count": null,
   "metadata": {},
   "outputs": [],
   "source": [
    "import pprint \n",
    "\n",
    "print(f\"{pprint.pformat(ses_request_headers)}\")\n",
    "\n",
    "print(f\"{pprint.pformat(ses_request_data)[:2000]}...\")"
   ]
  },
  {
   "cell_type": "markdown",
   "metadata": {
    "colab_type": "text",
    "id": "RKA6PmyOzTXC"
   },
   "source": [
    "The input data contains two high-level components:\n",
    "\n",
    "- `config` - a set of high level configuration options\n",
    "- `metrics` - a list of configs+data with one entry per input metric\n",
    "\n",
    "Each \"metric\" object in the `metrics` list contains a metric-specific configuration, and a list of datapoints (`data`).  Each datapoint is associated with a particular interval in time, and contains the following fields:\n",
    "\n",
    "- `interval_timestamp` - the unix timestamp (in seconds) associated with this datapoint\n",
    "- `unit_count` - refers the number of subjects observed during this time period. \"Units\" are the things that are exposed to treatments in your experiment.  In most experiments a \"unit\" is a website visitor or app user, but some experiments use alternatives such as visitor sessions or service requests.\n",
    "- `unit_observation_sum` - the sum of the numerical \"observations\" we've made about the units in this time interval.  For a conversion rate metric, this value would be the number of the visitors who took some specified action _at least once_ during our experiment.\n",
    "- `unit_observation_sum_of_squares` - the sum of the squares of the numerical observations made about the units in this time interval.  Stats Engine Service uses this value to estimate the variance in the input data.\n",
    "\n",
    "\n",
    "Now that we've constructed our input data, we're ready to send it to Stat Engine Service in order to compute sequential p-values and confidence intervals."
   ]
  },
  {
   "cell_type": "code",
   "execution_count": null,
   "metadata": {
    "colab": {},
    "colab_type": "code",
    "id": "I4Z7AjpLyw3l"
   },
   "outputs": [],
   "source": [
    "import requests\n",
    "\n",
    "STATS_ENGINE_SERVICE_URI = \"https://api.optimizely.com/stats-engine/v0/batch\"\n",
    "\n",
    "# Send the request to Stats Engine Service\n",
    "ses_response = requests.post(\n",
    "  STATS_ENGINE_SERVICE_URI, \n",
    "  headers=ses_request_headers, \n",
    "  json=ses_request_data\n",
    ")\n",
    "\n",
    "# Check to make sure SES did not return an error\n",
    "if ses_response.status_code != 200:\n",
    "  raise Exception(f\"Error: received {ses_response.status_code} from Stats Engine Service ({STATS_ENGINE_SERVICE_URI}): {ses_response.text}\")\n",
    "\n",
    "# Convert the data returned by SES into a list of DataFrames so that it is\n",
    "# easier to explore\n",
    "stats_dfs = [pd.DataFrame(stats_json) for stats_json in ses_response.json()]\n",
    "\n",
    "# Combine the SES response dataframes into a single dataframe\n",
    "results = pd.concat(\n",
    "    stats_dfs, \n",
    "    keys=ses_metric_names, \n",
    "    names = [\"metric_name\"],\n",
    ")"
   ]
  },
  {
   "cell_type": "markdown",
   "metadata": {
    "colab_type": "text",
    "id": "fi_BOWat9Y-5"
   },
   "source": [
    "We've stored the response from Stats Engine Service in a list of dataframes, `stats_dfs`.  Each dataframe in this list contains sequential stats data corresponding to the metric represented by the input data in `metric_dfs`.\n",
    "\n",
    "In order to make it easier to examine the Stats Engine Service output, we've combined these metric-specific results dataframe into one large `results` dataframe.\n",
    "\n",
    "Let's take a look at our `results` data:"
   ]
  },
  {
   "cell_type": "code",
   "execution_count": null,
   "metadata": {
    "colab": {
     "base_uri": "https://localhost:8080/",
     "height": 224
    },
    "colab_type": "code",
    "id": "Qyo5Bdqi1hiC",
    "outputId": "2471006b-28f9-4b66-e827-5691ad9ca9c9"
   },
   "outputs": [],
   "source": [
    "results.head()"
   ]
  },
  {
   "cell_type": "markdown",
   "metadata": {},
   "source": [
    "**That's it**-- we've used Stats Engine Service to compute sequential, always-valid p-values and confidence intervals for our experiment data.\n",
    "\n",
    "The dataset returned by Stats Engine Service contains many fields, but we are primarily concerned with just a few of them:\n",
    "\n",
    "- `corrected_p_value` - the cumulative \"always valid\" p-value corresponding to a particular variation during a particular time interval.  \"`corrected`\" refers to the False Discovery Rate correction that Stats Engine applies to correct for multiple-comparisons errors.\n",
    "- `corrected_conf_interval_lower` and `corrected_conf_interval_upper` - the cumulative \"always valid\" lower and upper bounds on the \"true value\" of the metric for a specified variation\n",
    "\n",
    "Since each of these fields is cumulative, we can look at the last time interval in the response to get the \"current\" values of each:"
   ]
  },
  {
   "cell_type": "code",
   "execution_count": null,
   "metadata": {},
   "outputs": [],
   "source": [
    "results.groupby([\"metric_name\", \"variation_id\"]).last()[[\n",
    "    \"lift_estimate\",\n",
    "    \"corrected_p_value\",\n",
    "    \"corrected_conf_interval_lower\", \n",
    "    \"corrected_conf_interval_upper\"\n",
    "]]"
   ]
  },
  {
   "cell_type": "markdown",
   "metadata": {
    "colab_type": "text",
    "id": "RO1HXUkgsVIl"
   },
   "source": [
    "## Rendering a results report\n",
    "\n",
    "In this section we'll render a simple experiment report with our data.  We'll need to download a special python library and a set of HTML and CSS templates to do this."
   ]
  },
  {
   "cell_type": "code",
   "execution_count": null,
   "metadata": {
    "colab": {
     "base_uri": "https://localhost:8080/",
     "height": 850
    },
    "colab_type": "code",
    "id": "i3huqNmyPfHu",
    "outputId": "f2addc9e-b88d-4bfa-fd88-1f6760611a26"
   },
   "outputs": [],
   "source": [
    "%%bash\n",
    "\n",
    "# Remove old copies of this library so that this cell\n",
    "# may be run more than once\n",
    "rm -rf master.zip ses-research-public-master lib\n",
    "\n",
    "# Download a zipped copy of the github repository containing our rendering library\n",
    "curl -L -O https://github.com/optimizely/ses-research-public/archive/master.zip \n",
    "\n",
    "# Unzip the repository\n",
    "unzip -q master.zip\n",
    "\n",
    "# Move the rendering library to our working directory\n",
    "mv ses-research-public-master/lib ."
   ]
  },
  {
   "cell_type": "code",
   "execution_count": null,
   "metadata": {
    "colab": {
     "base_uri": "https://localhost:8080/",
     "height": 473
    },
    "colab_type": "code",
    "id": "mwim7eC4sVIl",
    "outputId": "85f16c9e-6d89-4f04-aaf4-7aa8e1036008"
   },
   "outputs": [],
   "source": [
    "from lib.report import render\n",
    "from IPython.display import display, HTML\n",
    "\n",
    "for i, metric_name in enumerate(ses_metric_names):\n",
    "    table_html = render.render_se_metric_overview_table(\n",
    "        observations_timeseries=metric_dfs[i],\n",
    "        statistics=stats_dfs[i],\n",
    "        reference_variation_id=\"control\",\n",
    "        metric_name=metric_name\n",
    "    )\n",
    "    display(HTML(table_html))"
   ]
  },
  {
   "cell_type": "code",
   "execution_count": null,
   "metadata": {},
   "outputs": [],
   "source": []
  }
 ],
 "metadata": {
  "colab": {
   "collapsed_sections": [],
   "name": "ses_demo_simple.ipynb",
   "provenance": []
  },
  "kernelspec": {
   "display_name": "Python 3 (Optimizely Labs Environment)",
   "language": "python",
   "name": "optimizelylabs"
  },
  "language_info": {
   "codemirror_mode": {
    "name": "ipython",
    "version": 3
   },
   "file_extension": ".py",
   "mimetype": "text/x-python",
   "name": "python",
   "nbconvert_exporter": "python",
   "pygments_lexer": "ipython3",
   "version": "3.7.6"
  }
 },
 "nbformat": 4,
 "nbformat_minor": 4
}
